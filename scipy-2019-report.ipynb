{
 "cells": [
  {
   "cell_type": "markdown",
   "metadata": {
    "slideshow": {
     "slide_type": "slide"
    }
   },
   "source": [
    "# ScPy 2019 conference report\n",
    "## Austin, Texas\n",
    "### July 8th - 14th 2019\n",
    "\n",
    "https://scipy2019.scipy.org"
   ]
  },
  {
   "cell_type": "markdown",
   "metadata": {
    "slideshow": {
     "slide_type": "subslide"
    }
   },
   "source": [
    "# Hi, I'm Genevieve\n",
    "\n",
    "* First time SciPy presenter/attendee\n",
    "* I work as a scientific programmer\n",
    "* Data science for biomedical research\n",
    "* You can find me @GenevieveBuckley (Twitter, Github, LinkedIn)"
   ]
  },
  {
   "cell_type": "markdown",
   "metadata": {
    "slideshow": {
     "slide_type": "slide"
    }
   },
   "source": [
    "# What is SciPy?\n",
    "\n",
    "* 2 days of tutorials\n",
    "* 3 days main conference\n",
    "* 2 days code sprints\n",
    "\n",
    "...a lot of fun!"
   ]
  },
  {
   "cell_type": "markdown",
   "metadata": {
    "slideshow": {
     "slide_type": "subslide"
    }
   },
   "source": [
    "# Not in the USA? No worries!\n",
    "\n",
    "SciPy is a great conference to follow along with from far away.\n",
    "\n",
    "* Twitter: [@scipyconf](https://twitter.com/scipyconf)\n",
    "\n",
    "* [SciPy YouTube playlist](https://www.youtube.com/playlist?list=PLYx7XA2nY5GcDQblpQ_M1V3PQPoLWiDAC) on the Enthought channel. Talks usually go up within a few days.\n",
    "\n",
    "* ...you can also apply for financial aid for next year."
   ]
  },
  {
   "cell_type": "markdown",
   "metadata": {
    "slideshow": {
     "slide_type": "slide"
    }
   },
   "source": [
    "# Keynote speakers\n",
    "\n",
    "* [The Invisible Work of Maintaining & Sustaining Open Source Software](https://www.youtube.com/watch?v=PM3iltcaIL8&list=PLYx7XA2nY5GcDQblpQ_M1V3PQPoLWiDAC&index=8)  \n",
    "Stuart Geiger, *UC-Berkeley Institute for Data Science*  \n",
    "* [The New Era in NLP](https://www.youtube.com/watch?v=KChtdexd5Jo)  \n",
    "Rachel Thomas, *fast.ai and University of San Francisco Data Institute*  \n",
    "* [Jupyter: Always Open for Learning and Discovery](https://www.youtube.com/watch?v=s-W-UvGgDco)  \n",
    "Carol Willing, *Willing Consulting*  \n"
   ]
  },
  {
   "cell_type": "markdown",
   "metadata": {
    "slideshow": {
     "slide_type": "slide"
    }
   },
   "source": [
    "\n",
    "# Highlights\n",
    "\n",
    "## And now, for a very biased selection of highlights...\n"
   ]
  },
  {
   "cell_type": "markdown",
   "metadata": {
    "slideshow": {
     "slide_type": "slide"
    }
   },
   "source": [
    "# Theme: ascending Maslow's hierarchy\n",
    "\n",
    "![Maslow heirarchy of code](imgs/MaslowHeirarchyOfSoftwareNeeds.png)\n",
    "\n",
    "Slide from [Accelerate an existing code base with numba](https://www.youtube.com/watch?v=-4tD8kNHdXs&list=PLYx7XA2nY5GcDQblpQ_M1V3PQPoLWiDAC&index=71&t=0s), Sui Kwan Lam, Stanley Seibert"
   ]
  },
  {
   "cell_type": "markdown",
   "metadata": {
    "slideshow": {
     "slide_type": "subslide"
    }
   },
   "source": [
    "# Theme: ascending Maslow's hierarchy\n",
    "\n",
    "* [The pytest tutorial](https://www.youtube.com/watch?v=LX2ksGYXJ80&list=PLYx7XA2nY5GcDQblpQ_M1V3PQPoLWiDAC&index=6&t=0s)\n",
    "* [hypothesis: generating random inputs to test research code](https://www.youtube.com/watch?v=-Gyz28JWuWs&list=PLYx7XA2nY5GcDQblpQ_M1V3PQPoLWiDAC&index=15&t=0s) and [tutorial](https://www.youtube.com/watch?v=spmBQHtJUvE&list=PLYx7XA2nY5GcDQblpQ_M1V3PQPoLWiDAC&index=94&t=0s), Zac Hatfield-Dodds\n",
    "* [Git hooked on images in your version control and up your documentation game](https://www.youtube.com/watch?v=U2JTtJW1EcM&list=PLYx7XA2nY5GcDQblpQ_M1V3PQPoLWiDAC&index=22&t=0s), Veronica Hanus\n",
    "* [Accelerate an existing code base with numba](https://www.youtube.com/watch?v=-4tD8kNHdXs&list=PLYx7XA2nY5GcDQblpQ_M1V3PQPoLWiDAC&index=71&t=0s), Sui Kwan Lam, Stanley Seibert\n",
    "\n"
   ]
  },
  {
   "cell_type": "markdown",
   "metadata": {
    "slideshow": {
     "slide_type": "slide"
    }
   },
   "source": [
    "# Theme: visualization\n",
    "\n",
    "* Panel: turn any notebook into a deployable dashboard [talk](https://www.youtube.com/watch?v=L91rd1D6XTA&list=PLYx7XA2nY5GcDQblpQ_M1V3PQPoLWiDAC&index=84&t=0s) and [tutorial](https://www.youtube.com/watch?v=7deGS4IPAQ0&list=PLYx7XA2nY5GcDQblpQ_M1V3PQPoLWiDAC&index=101&t=0s)\n",
    "* Dash Bio: visualization for biofinformatics, [talk](https://www.youtube.com/watch?v=L9r23bXDoEs&list=PLYx7XA2nY5GcDQblpQ_M1V3PQPoLWiDAC&index=26&t=0s) by Shammamah Hossain\n",
    "* Jupyter interactive widget ecosystem [tutorial](https://www.youtube.com/watch?v=HaSpqsKaRbo&list=PLYx7XA2nY5GcDQblpQ_M1V3PQPoLWiDAC&index=93&t=0s)\n",
    "* GlueViz: multidimensional linked data exploration [talk](https://www.youtube.com/watch?v=TkMZ9gZ8xtk&list=PLYx7XA2nY5GcDQblpQ_M1V3PQPoLWiDAC&index=73&t=0s) and [tutorial](https://www.youtube.com/watch?v=8RkCpq9wMuI&list=PLYx7XA2nY5GcDQblpQ_M1V3PQPoLWiDAC&index=92&t=0s)\n",
    "* Birds of a feather session: [notes available here](https://t.co/UvxIYtMVlt?amp=1)\n",
    "\n"
   ]
  },
  {
   "cell_type": "markdown",
   "metadata": {
    "slideshow": {
     "slide_type": "subslide"
    }
   },
   "source": [
    "![panel screenshot](imgs/panel_logo.png)\n",
    "\n",
    "Panel: A high-level app and dashboarding solution for Python\n",
    "\n",
    "https://panel.pyviz.org/"
   ]
  },
  {
   "cell_type": "markdown",
   "metadata": {
    "slideshow": {
     "slide_type": "slide"
    }
   },
   "source": [
    "# Theme: wellbeing\n",
    "* Stuart Geiger's keynote: [The Invisible Work of Maintaining & Sustaining Open Source Software](https://www.youtube.com/watch?v=PM3iltcaIL8&list=PLYx7XA2nY5GcDQblpQ_M1V3PQPoLWiDAC&index=8)  \n",
    "* Steve Silvester's [lightning talk on diversity, inclusion, and mental wellness](https://youtu.be/AnYjArI2xUM?t=2736) \n",
    "* Tania Allard's [Inclusive Leadership: Engaging Contributors in the Long Term](https://www.youtube.com/watch?v=RClZj5-bjcw&list=PLYx7XA2nY5GcDQblpQ_M1V3PQPoLWiDAC&index=23)\n",
    "* Dorothy Howard's [Invisible Work, Incentives, & Burnout in Open Communities](https://www.youtube.com/watch?v=qtUxRhmz3Qc)\n",
    "* Stuart Geiger also ran a \"sprint about our feelings\"\n"
   ]
  },
  {
   "cell_type": "markdown",
   "metadata": {
    "slideshow": {
     "slide_type": "subslide"
    }
   },
   "source": [
    "## Invisible Work, by Karthik Ram \n",
    "\n",
    "<http://inundata.org/talks/sdss/>\n",
    "\n",
    "![Invisible work in software development](imgs/InvisibleWork_KarthikRam.png)\n",
    "\n"
   ]
  },
  {
   "cell_type": "markdown",
   "metadata": {
    "slideshow": {
     "slide_type": "subslide"
    }
   },
   "source": [
    "# Being Glue by Tanya Reilly\n",
    "![Stuart Geiger scipy 2019 keynote - slide 'Being Glue'](imgs/StuartGeiger_scipy2019_slide_BeingGlue.png)\n"
   ]
  },
  {
   "cell_type": "markdown",
   "metadata": {
    "slideshow": {
     "slide_type": "subslide"
    }
   },
   "source": [
    "![Grandma open sources her cookies](imgs/TaniaAllard_GrandmaCookies.png)\n"
   ]
  },
  {
   "cell_type": "markdown",
   "metadata": {
    "slideshow": {
     "slide_type": "slide"
    }
   },
   "source": [
    "# Sprints\n",
    "\n"
   ]
  },
  {
   "cell_type": "markdown",
   "metadata": {
    "slideshow": {
     "slide_type": "subslide"
    }
   },
   "source": [
    "# Sprints\n",
    "## Sprinting about our feelings\n",
    "* extremely popular\n",
    "* people used this space in very varied ways\n",
    "* you can read more about the work at BIDS,  \n",
    "and recommendations for best practices here <https://bids.berkeley.edu/resources>\n"
   ]
  },
  {
   "cell_type": "markdown",
   "metadata": {
    "slideshow": {
     "slide_type": "subslide"
    }
   },
   "source": [
    "# Sprints\n",
    "##  ...and why you should get involved\n",
    "* First: yes, you are good enough\n",
    "* It's a great way to contribute\n",
    "* Get to meet maintainers/developers on some of your favourite projects\n",
    "\n",
    "It's noisy! Stick it out, or take a break somewhere quiet :)\n"
   ]
  },
  {
   "cell_type": "markdown",
   "metadata": {
    "slideshow": {
     "slide_type": "slide"
    }
   },
   "source": [
    "![Angelina Jolie in the 1995 movie Hackers](imgs/AngelinaJolieHackers-cropped.jpg)\n",
    "\n",
    "You do not need to be Angelina Jolie, circa 1995 in the movie 'Hackers'.  \n",
    "(This is a fun movie to watch with your friends who program, btw)"
   ]
  },
  {
   "cell_type": "markdown",
   "metadata": {
    "slideshow": {
     "slide_type": "slide"
    }
   },
   "source": [
    "# Standards: making space for creativity\n",
    "\n",
    "Matthew Rocklin [gave a talk](https://www.youtube.com/watch?v=Q0DsdiY-jiw) ([slides here](https://matthewrocklin.com/slides/scipy-2019#/)) with two main points:\n",
    "\n",
    "* GPUs are neat \n",
    "* **We need to think about standards**\n",
    "\n",
    "> \"Standards enable inter-project coordination\""
   ]
  },
  {
   "cell_type": "markdown",
   "metadata": {
    "slideshow": {
     "slide_type": "subslide"
    }
   },
   "source": [
    "# Standards: making space for creativity\n",
    "## What are standards?\n",
    "\n",
    "* Anything with `__iter__` can be looped through\n",
    "* scikit-learn `fit/predict`, anything that behaves similarly can be used as a drop-in replacement\n",
    "* `.ipynb` json schema\n",
    "* Maybe soon? NEP 18 `__array_function__` for easier interchangeability of array types (numpy/sparse/dask/etc.)\n"
   ]
  },
  {
   "cell_type": "markdown",
   "metadata": {
    "slideshow": {
     "slide_type": "subslide"
    }
   },
   "source": [
    "# Standards: making space for creativity\n",
    "\n",
    "> \"Standards let us mix and match technologies, enabling creative solutions that maintainers didn't foresee\"\n",
    "\n",
    "-- Matthew Rocklin [Refactoring the SciPy ecosystem for heterogenous computing](https://www.youtube.com/watch?v=Q0DsdiY-jiw) "
   ]
  },
  {
   "cell_type": "markdown",
   "metadata": {
    "slideshow": {
     "slide_type": "subslide"
    }
   },
   "source": [
    "![Matthew Rocklin \"PhD students need more opportunities to distract them from research\"](imgs/MatthewRocklin_grad_students.png)\n"
   ]
  },
  {
   "cell_type": "markdown",
   "metadata": {
    "slideshow": {
     "slide_type": "slide"
    }
   },
   "source": [
    "# SciPy 2019 conference\n",
    "\n",
    "\n",
    "* Twitter: [@scipyconf](https://twitter.com/scipyconf)\n",
    "\n",
    "* [SciPy YouTube playlist](https://www.youtube.com/playlist?list=PLYx7XA2nY5GcDQblpQ_M1V3PQPoLWiDAC) on the Enthought channel. Talks usually go up within a few days.\n",
    "\n",
    "* Website: https://scipy2019.scipy.org\n"
   ]
  }
 ],
 "metadata": {
  "celltoolbar": "Slideshow",
  "kernelspec": {
   "display_name": "Python 3",
   "language": "python",
   "name": "python3"
  },
  "language_info": {
   "codemirror_mode": {
    "name": "ipython",
    "version": 3
   },
   "file_extension": ".py",
   "mimetype": "text/x-python",
   "name": "python",
   "nbconvert_exporter": "python",
   "pygments_lexer": "ipython3",
   "version": "3.6.8"
  }
 },
 "nbformat": 4,
 "nbformat_minor": 2
}
